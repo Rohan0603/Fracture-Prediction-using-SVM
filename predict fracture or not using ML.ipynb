{
 "cells": [
  {
   "cell_type": "code",
   "execution_count": 1,
   "id": "ee951cc9",
   "metadata": {
    "scrolled": true
   },
   "outputs": [
    {
     "name": "stdout",
     "output_type": "stream",
     "text": [
      "        id        age sex     fracture  weight_kg  height_cm      medication  \\\n",
      "0      469  57.052768   F  no fracture       64.0      155.5  Anticonvulsant   \n",
      "1     8724  75.741225   F  no fracture       78.0      162.0   No medication   \n",
      "2     6736  70.778900   M  no fracture       73.0      170.5   No medication   \n",
      "3    24180  78.247175   F  no fracture       60.0      148.0   No medication   \n",
      "4    17072  54.191877   M  no fracture       55.0      161.0   No medication   \n",
      "..     ...        ...  ..          ...        ...        ...             ...   \n",
      "164  21892  77.982543   M     fracture       74.0      164.0   No medication   \n",
      "165  24140  50.285303   F     fracture       59.0      161.0   No medication   \n",
      "166   6969  46.359721   M     fracture       67.0      169.0   No medication   \n",
      "167   5505  54.788368   M     fracture       70.0      166.0   No medication   \n",
      "168     71  69.994822   F     fracture       68.5      165.0   No medication   \n",
      "\n",
      "     waiting_time     bmd  \n",
      "0              18  0.8793  \n",
      "1              56  0.7946  \n",
      "2              10  0.9067  \n",
      "3              14  0.7112  \n",
      "4              20  0.7909  \n",
      "..            ...     ...  \n",
      "164            49  0.7941  \n",
      "165             6  0.7971  \n",
      "166            10  0.8037  \n",
      "167            14  0.8072  \n",
      "168            25  0.8664  \n",
      "\n",
      "[169 rows x 9 columns]\n",
      "<class 'pandas.core.frame.DataFrame'>\n",
      "RangeIndex: 169 entries, 0 to 168\n",
      "Data columns (total 9 columns):\n",
      " #   Column        Non-Null Count  Dtype  \n",
      "---  ------        --------------  -----  \n",
      " 0   id            169 non-null    int64  \n",
      " 1   age           169 non-null    float64\n",
      " 2   sex           169 non-null    object \n",
      " 3   fracture      169 non-null    object \n",
      " 4   weight_kg     169 non-null    float64\n",
      " 5   height_cm     169 non-null    float64\n",
      " 6   medication    169 non-null    object \n",
      " 7   waiting_time  169 non-null    int64  \n",
      " 8   bmd           169 non-null    float64\n",
      "dtypes: float64(4), int64(2), object(3)\n",
      "memory usage: 12.0+ KB\n",
      "None\n"
     ]
    }
   ],
   "source": [
    "import pandas as pd\n",
    "import seaborn as sns\n",
    "import matplotlib.pyplot as plt\n",
    "path=\"Logistic\\Predcit fracture or not\\Bmd.csv\"\n",
    "data=pd.read_csv(path)\n",
    "print(data)\n",
    "print(data.info())"
   ]
  },
  {
   "cell_type": "code",
   "execution_count": 2,
   "id": "c1b59d84",
   "metadata": {},
   "outputs": [
    {
     "data": {
      "text/plain": [
       "id              0\n",
       "age             0\n",
       "sex             0\n",
       "fracture        0\n",
       "weight_kg       0\n",
       "height_cm       0\n",
       "medication      0\n",
       "waiting_time    0\n",
       "bmd             0\n",
       "dtype: int64"
      ]
     },
     "execution_count": 2,
     "metadata": {},
     "output_type": "execute_result"
    }
   ],
   "source": [
    "data.isnull().sum()"
   ]
  },
  {
   "cell_type": "code",
   "execution_count": 3,
   "id": "5821f3dd",
   "metadata": {},
   "outputs": [],
   "source": [
    "from sklearn.preprocessing import LabelEncoder\n",
    "le_sex = LabelEncoder()\n",
    "data['sex'] = le_sex.fit_transform(data['sex'])\n",
    "le_med = LabelEncoder()\n",
    "data['medication'] = le_med.fit_transform(data['medication'])\n",
    "le_fract = LabelEncoder()\n",
    "data['fracture'] = le_fract.fit_transform(data['fracture'])"
   ]
  },
  {
   "cell_type": "code",
   "execution_count": 4,
   "id": "a0814912",
   "metadata": {
    "scrolled": true
   },
   "outputs": [
    {
     "name": "stdout",
     "output_type": "stream",
     "text": [
      "<class 'pandas.core.frame.DataFrame'>\n",
      "RangeIndex: 169 entries, 0 to 168\n",
      "Data columns (total 9 columns):\n",
      " #   Column        Non-Null Count  Dtype  \n",
      "---  ------        --------------  -----  \n",
      " 0   id            169 non-null    int64  \n",
      " 1   age           169 non-null    float64\n",
      " 2   sex           169 non-null    int32  \n",
      " 3   fracture      169 non-null    int32  \n",
      " 4   weight_kg     169 non-null    float64\n",
      " 5   height_cm     169 non-null    float64\n",
      " 6   medication    169 non-null    int32  \n",
      " 7   waiting_time  169 non-null    int64  \n",
      " 8   bmd           169 non-null    float64\n",
      "dtypes: float64(4), int32(3), int64(2)\n",
      "memory usage: 10.0 KB\n"
     ]
    }
   ],
   "source": [
    "data.info()"
   ]
  },
  {
   "cell_type": "code",
   "execution_count": 5,
   "id": "3d881b05",
   "metadata": {
    "scrolled": true
   },
   "outputs": [
    {
     "data": {
      "text/html": [
       "<div>\n",
       "<style scoped>\n",
       "    .dataframe tbody tr th:only-of-type {\n",
       "        vertical-align: middle;\n",
       "    }\n",
       "\n",
       "    .dataframe tbody tr th {\n",
       "        vertical-align: top;\n",
       "    }\n",
       "\n",
       "    .dataframe thead th {\n",
       "        text-align: right;\n",
       "    }\n",
       "</style>\n",
       "<table border=\"1\" class=\"dataframe\">\n",
       "  <thead>\n",
       "    <tr style=\"text-align: right;\">\n",
       "      <th></th>\n",
       "      <th>id</th>\n",
       "      <th>age</th>\n",
       "      <th>sex</th>\n",
       "      <th>fracture</th>\n",
       "      <th>weight_kg</th>\n",
       "      <th>height_cm</th>\n",
       "      <th>medication</th>\n",
       "      <th>waiting_time</th>\n",
       "      <th>bmd</th>\n",
       "    </tr>\n",
       "  </thead>\n",
       "  <tbody>\n",
       "    <tr>\n",
       "      <th>0</th>\n",
       "      <td>469</td>\n",
       "      <td>57.052768</td>\n",
       "      <td>0</td>\n",
       "      <td>1</td>\n",
       "      <td>64.0</td>\n",
       "      <td>155.5</td>\n",
       "      <td>0</td>\n",
       "      <td>18</td>\n",
       "      <td>0.8793</td>\n",
       "    </tr>\n",
       "    <tr>\n",
       "      <th>1</th>\n",
       "      <td>8724</td>\n",
       "      <td>75.741225</td>\n",
       "      <td>0</td>\n",
       "      <td>1</td>\n",
       "      <td>78.0</td>\n",
       "      <td>162.0</td>\n",
       "      <td>2</td>\n",
       "      <td>56</td>\n",
       "      <td>0.7946</td>\n",
       "    </tr>\n",
       "    <tr>\n",
       "      <th>2</th>\n",
       "      <td>6736</td>\n",
       "      <td>70.778900</td>\n",
       "      <td>1</td>\n",
       "      <td>1</td>\n",
       "      <td>73.0</td>\n",
       "      <td>170.5</td>\n",
       "      <td>2</td>\n",
       "      <td>10</td>\n",
       "      <td>0.9067</td>\n",
       "    </tr>\n",
       "    <tr>\n",
       "      <th>3</th>\n",
       "      <td>24180</td>\n",
       "      <td>78.247175</td>\n",
       "      <td>0</td>\n",
       "      <td>1</td>\n",
       "      <td>60.0</td>\n",
       "      <td>148.0</td>\n",
       "      <td>2</td>\n",
       "      <td>14</td>\n",
       "      <td>0.7112</td>\n",
       "    </tr>\n",
       "    <tr>\n",
       "      <th>4</th>\n",
       "      <td>17072</td>\n",
       "      <td>54.191877</td>\n",
       "      <td>1</td>\n",
       "      <td>1</td>\n",
       "      <td>55.0</td>\n",
       "      <td>161.0</td>\n",
       "      <td>2</td>\n",
       "      <td>20</td>\n",
       "      <td>0.7909</td>\n",
       "    </tr>\n",
       "    <tr>\n",
       "      <th>...</th>\n",
       "      <td>...</td>\n",
       "      <td>...</td>\n",
       "      <td>...</td>\n",
       "      <td>...</td>\n",
       "      <td>...</td>\n",
       "      <td>...</td>\n",
       "      <td>...</td>\n",
       "      <td>...</td>\n",
       "      <td>...</td>\n",
       "    </tr>\n",
       "    <tr>\n",
       "      <th>164</th>\n",
       "      <td>21892</td>\n",
       "      <td>77.982543</td>\n",
       "      <td>1</td>\n",
       "      <td>0</td>\n",
       "      <td>74.0</td>\n",
       "      <td>164.0</td>\n",
       "      <td>2</td>\n",
       "      <td>49</td>\n",
       "      <td>0.7941</td>\n",
       "    </tr>\n",
       "    <tr>\n",
       "      <th>165</th>\n",
       "      <td>24140</td>\n",
       "      <td>50.285303</td>\n",
       "      <td>0</td>\n",
       "      <td>0</td>\n",
       "      <td>59.0</td>\n",
       "      <td>161.0</td>\n",
       "      <td>2</td>\n",
       "      <td>6</td>\n",
       "      <td>0.7971</td>\n",
       "    </tr>\n",
       "    <tr>\n",
       "      <th>166</th>\n",
       "      <td>6969</td>\n",
       "      <td>46.359721</td>\n",
       "      <td>1</td>\n",
       "      <td>0</td>\n",
       "      <td>67.0</td>\n",
       "      <td>169.0</td>\n",
       "      <td>2</td>\n",
       "      <td>10</td>\n",
       "      <td>0.8037</td>\n",
       "    </tr>\n",
       "    <tr>\n",
       "      <th>167</th>\n",
       "      <td>5505</td>\n",
       "      <td>54.788368</td>\n",
       "      <td>1</td>\n",
       "      <td>0</td>\n",
       "      <td>70.0</td>\n",
       "      <td>166.0</td>\n",
       "      <td>2</td>\n",
       "      <td>14</td>\n",
       "      <td>0.8072</td>\n",
       "    </tr>\n",
       "    <tr>\n",
       "      <th>168</th>\n",
       "      <td>71</td>\n",
       "      <td>69.994822</td>\n",
       "      <td>0</td>\n",
       "      <td>0</td>\n",
       "      <td>68.5</td>\n",
       "      <td>165.0</td>\n",
       "      <td>2</td>\n",
       "      <td>25</td>\n",
       "      <td>0.8664</td>\n",
       "    </tr>\n",
       "  </tbody>\n",
       "</table>\n",
       "<p>169 rows × 9 columns</p>\n",
       "</div>"
      ],
      "text/plain": [
       "        id        age  sex  fracture  weight_kg  height_cm  medication  \\\n",
       "0      469  57.052768    0         1       64.0      155.5           0   \n",
       "1     8724  75.741225    0         1       78.0      162.0           2   \n",
       "2     6736  70.778900    1         1       73.0      170.5           2   \n",
       "3    24180  78.247175    0         1       60.0      148.0           2   \n",
       "4    17072  54.191877    1         1       55.0      161.0           2   \n",
       "..     ...        ...  ...       ...        ...        ...         ...   \n",
       "164  21892  77.982543    1         0       74.0      164.0           2   \n",
       "165  24140  50.285303    0         0       59.0      161.0           2   \n",
       "166   6969  46.359721    1         0       67.0      169.0           2   \n",
       "167   5505  54.788368    1         0       70.0      166.0           2   \n",
       "168     71  69.994822    0         0       68.5      165.0           2   \n",
       "\n",
       "     waiting_time     bmd  \n",
       "0              18  0.8793  \n",
       "1              56  0.7946  \n",
       "2              10  0.9067  \n",
       "3              14  0.7112  \n",
       "4              20  0.7909  \n",
       "..            ...     ...  \n",
       "164            49  0.7941  \n",
       "165             6  0.7971  \n",
       "166            10  0.8037  \n",
       "167            14  0.8072  \n",
       "168            25  0.8664  \n",
       "\n",
       "[169 rows x 9 columns]"
      ]
     },
     "execution_count": 5,
     "metadata": {},
     "output_type": "execute_result"
    }
   ],
   "source": [
    "data"
   ]
  },
  {
   "cell_type": "code",
   "execution_count": 6,
   "id": "5a9ef82f",
   "metadata": {},
   "outputs": [
    {
     "data": {
      "text/plain": [
       "<AxesSubplot:>"
      ]
     },
     "execution_count": 6,
     "metadata": {},
     "output_type": "execute_result"
    },
    {
     "data": {
      "image/png": "[encoded data removed]",
      "text/plain": [
       "<Figure size 1500x1000 with 2 Axes>"
      ]
     },
     "metadata": {},
     "output_type": "display_data"
    }
   ],
   "source": [
    "corr = data.corr()\n",
    "plt.figure(figsize=(15,10))\n",
    "sns.heatmap(corr, annot=True)"
   ]
  },
  {
   "cell_type": "code",
   "execution_count": 7,
   "id": "87e108ef",
   "metadata": {},
   "outputs": [
    {
     "name": "stdout",
     "output_type": "stream",
     "text": [
      "           age  sex  weight_kg  height_cm  medication  waiting_time     bmd\n",
      "0    57.052768    0       64.0      155.5           0            18  0.8793\n",
      "1    75.741225    0       78.0      162.0           2            56  0.7946\n",
      "2    70.778900    1       73.0      170.5           2            10  0.9067\n",
      "3    78.247175    0       60.0      148.0           2            14  0.7112\n",
      "4    54.191877    1       55.0      161.0           2            20  0.7909\n",
      "..         ...  ...        ...        ...         ...           ...     ...\n",
      "164  77.982543    1       74.0      164.0           2            49  0.7941\n",
      "165  50.285303    0       59.0      161.0           2             6  0.7971\n",
      "166  46.359721    1       67.0      169.0           2            10  0.8037\n",
      "167  54.788368    1       70.0      166.0           2            14  0.8072\n",
      "168  69.994822    0       68.5      165.0           2            25  0.8664\n",
      "\n",
      "[169 rows x 7 columns]\n",
      "     fracture\n",
      "0           1\n",
      "1           1\n",
      "2           1\n",
      "3           1\n",
      "4           1\n",
      "..        ...\n",
      "164         0\n",
      "165         0\n",
      "166         0\n",
      "167         0\n",
      "168         0\n",
      "\n",
      "[169 rows x 1 columns]\n"
     ]
    },
    {
     "name": "stderr",
     "output_type": "stream",
     "text": [
      "C:\\Users\\Rohan\\AppData\\Local\\Temp\\ipykernel_21328\\3628465587.py:1: FutureWarning: In a future version of pandas all arguments of DataFrame.drop except for the argument 'labels' will be keyword-only.\n",
      "  inputs=data.drop(['fracture', 'id'],'columns')\n",
      "C:\\Users\\Rohan\\AppData\\Local\\Temp\\ipykernel_21328\\3628465587.py:2: FutureWarning: In a future version of pandas all arguments of DataFrame.drop except for the argument 'labels' will be keyword-only.\n",
      "  output=data.drop(['id','age','sex','weight_kg','height_cm','medication','waiting_time','bmd'],'columns')\n"
     ]
    }
   ],
   "source": [
    "inputs=data.drop(['fracture', 'id'],'columns')\n",
    "output=data.drop(['id','age','sex','weight_kg','height_cm','medication','waiting_time','bmd'],'columns')\n",
    "print(inputs)\n",
    "print(output)"
   ]
  },
  {
   "cell_type": "code",
   "execution_count": 8,
   "id": "7c5a367b",
   "metadata": {},
   "outputs": [],
   "source": [
    "import sklearn\n",
    "from sklearn.model_selection import train_test_split\n",
    "x_train,x_test,y_train,y_test=train_test_split(inputs,output,test_size=0.25,random_state=42)"
   ]
  },
  {
   "cell_type": "code",
   "execution_count": 9,
   "id": "c212e3a4",
   "metadata": {},
   "outputs": [
    {
     "name": "stderr",
     "output_type": "stream",
     "text": [
      "c:\\Users\\Rohan\\AppData\\Local\\Programs\\Python\\Python310\\lib\\site-packages\\sklearn\\neighbors\\_classification.py:207: DataConversionWarning: A column-vector y was passed when a 1d array was expected. Please change the shape of y to (n_samples,), for example using ravel().\n",
      "  return self._fit(X, y)\n"
     ]
    }
   ],
   "source": [
    "from sklearn.neighbors import KNeighborsClassifier\n",
    "model=KNeighborsClassifier(n_neighbors=13)\n",
    "model.fit(x_train,y_train)\n",
    "y_pred=model.predict(x_test) "
   ]
  },
  {
   "cell_type": "code",
   "execution_count": 10,
   "id": "13e0b0ca",
   "metadata": {},
   "outputs": [
    {
     "name": "stdout",
     "output_type": "stream",
     "text": [
      "[0]\n"
     ]
    },
    {
     "name": "stderr",
     "output_type": "stream",
     "text": [
      "c:\\Users\\Rohan\\AppData\\Local\\Programs\\Python\\Python310\\lib\\site-packages\\sklearn\\base.py:450: UserWarning: X does not have valid feature names, but KNeighborsClassifier was fitted with feature names\n",
      "  warnings.warn(\n"
     ]
    }
   ],
   "source": [
    "from sklearn.metrics import confusion_matrix\n",
    "\n",
    "res=model.predict([[77.82543,1,74,164,2,49, 0.7941]])\n",
    "print(res)"
   ]
  },
  {
   "cell_type": "code",
   "execution_count": 11,
   "id": "dcf3e559",
   "metadata": {},
   "outputs": [
    {
     "name": "stdout",
     "output_type": "stream",
     "text": [
      "0.7988165680473372\n"
     ]
    }
   ],
   "source": [
    "print(model.score(inputs, output))"
   ]
  },
  {
   "cell_type": "code",
   "execution_count": 12,
   "id": "e7be6e8f",
   "metadata": {},
   "outputs": [
    {
     "ename": "ValueError",
     "evalue": "invalid literal for int() with base 10: 'M'",
     "output_type": "error",
     "traceback": [
      "\u001b[1;31m---------------------------------------------------------------------------\u001b[0m",
      "\u001b[1;31mValueError\u001b[0m                                Traceback (most recent call last)",
      "Cell \u001b[1;32mIn [12], line 109\u001b[0m, in \u001b[0;36mUi_Form.fract\u001b[1;34m(self)\u001b[0m\n\u001b[0;32m    106\u001b[0m bmd \u001b[39m=\u001b[39m \u001b[39mself\u001b[39m\u001b[39m.\u001b[39mbmd\u001b[39m.\u001b[39mtext()\n\u001b[0;32m    108\u001b[0m age \u001b[39m=\u001b[39m \u001b[39mint\u001b[39m(age)\n\u001b[1;32m--> 109\u001b[0m sex \u001b[39m=\u001b[39m \u001b[39mint\u001b[39;49m(sex)\n\u001b[0;32m    110\u001b[0m weight \u001b[39m=\u001b[39m \u001b[39mfloat\u001b[39m(weight)\n\u001b[0;32m    111\u001b[0m height \u001b[39m=\u001b[39m \u001b[39mfloat\u001b[39m(height)\n",
      "\u001b[1;31mValueError\u001b[0m: invalid literal for int() with base 10: 'M'"
     ]
    },
    {
     "name": "stderr",
     "output_type": "stream",
     "text": [
      "c:\\Users\\Rohan\\AppData\\Local\\Programs\\Python\\Python310\\lib\\site-packages\\sklearn\\base.py:450: UserWarning: X does not have valid feature names, but KNeighborsClassifier was fitted with feature names\n",
      "  warnings.warn(\n"
     ]
    },
    {
     "ename": "SystemExit",
     "evalue": "0",
     "output_type": "error",
     "traceback": [
      "An exception has occurred, use %tb to see the full traceback.\n",
      "\u001b[1;31mSystemExit\u001b[0m\u001b[1;31m:\u001b[0m 0\n"
     ]
    },
    {
     "name": "stderr",
     "output_type": "stream",
     "text": [
      "C:\\Users\\Rohan\\AppData\\Roaming\\Python\\Python310\\site-packages\\IPython\\core\\interactiveshell.py:3386: UserWarning: To exit: use 'exit', 'quit', or Ctrl-D.\n",
      "  warn(\"To exit: use 'exit', 'quit', or Ctrl-D.\", stacklevel=1)\n"
     ]
    }
   ],
   "source": [
    "from PyQt5 import QtCore, QtGui, QtWidgets\n",
    "\n",
    "class Ui_Form(object):\n",
    "    def setupUi(self, Form):\n",
    "        Form.setObjectName(\"Form\")\n",
    "        Form.resize(878, 815)\n",
    "        self.label = QtWidgets.QLabel(Form)\n",
    "        self.label.setGeometry(QtCore.QRect(160, 10, 551, 81))\n",
    "        self.label.setStyleSheet(\"font: 34pt \\\"Rockwell Condensed\\\";\\n\"\n",
    "\"color:rgb(0, 85, 0);\")\n",
    "        self.label.setObjectName(\"label\")\n",
    "        self.widget = QtWidgets.QWidget(Form)\n",
    "        self.widget.setGeometry(QtCore.QRect(30, 100, 821, 691))\n",
    "        self.widget.setStyleSheet(\"Background-color:rgb(255, 170, 127);\")\n",
    "        self.widget.setObjectName(\"widget\")\n",
    "        self.label_2 = QtWidgets.QLabel(self.widget)\n",
    "        self.label_2.setGeometry(QtCore.QRect(20, 30, 91, 51))\n",
    "        self.label_2.setStyleSheet(\"font: 26pt \\\"Rockwell Condensed\\\";\")\n",
    "        self.label_2.setObjectName(\"label_2\")\n",
    "        self.label_3 = QtWidgets.QLabel(self.widget)\n",
    "        self.label_3.setGeometry(QtCore.QRect(10, 120, 91, 51))\n",
    "        self.label_3.setStyleSheet(\"font: 26pt \\\"Rockwell Condensed\\\";\")\n",
    "        self.label_3.setObjectName(\"label_3\")\n",
    "        self.label_4 = QtWidgets.QLabel(self.widget)\n",
    "        self.label_4.setGeometry(QtCore.QRect(10, 210, 111, 51))\n",
    "        self.label_4.setStyleSheet(\"font: 26pt \\\"Rockwell Condensed\\\";\")\n",
    "        self.label_4.setObjectName(\"label_4\")\n",
    "        self.label_5 = QtWidgets.QLabel(self.widget)\n",
    "        self.label_5.setGeometry(QtCore.QRect(410, 110, 211, 61))\n",
    "        self.label_5.setStyleSheet(\"font: 26pt \\\"Rockwell Condensed\\\";\")\n",
    "        self.label_5.setObjectName(\"label_5\")\n",
    "        self.label_6 = QtWidgets.QLabel(self.widget)\n",
    "        self.label_6.setGeometry(QtCore.QRect(380, 20, 241, 61))\n",
    "        self.label_6.setStyleSheet(\"font: 26pt \\\"Rockwell Condensed\\\";\")\n",
    "        self.label_6.setObjectName(\"label_6\")\n",
    "        self.label_7 = QtWidgets.QLabel(self.widget)\n",
    "        self.label_7.setGeometry(QtCore.QRect(0, 300, 221, 71))\n",
    "        self.label_7.setStyleSheet(\"font: 26pt \\\"Rockwell Condensed\\\";\")\n",
    "        self.label_7.setObjectName(\"label_7\")\n",
    "        self.label_8 = QtWidgets.QLabel(self.widget)\n",
    "        self.label_8.setGeometry(QtCore.QRect(360, 200, 291, 91))\n",
    "        self.label_8.setStyleSheet(\"font: 26pt \\\"Rockwell Condensed\\\";\")\n",
    "        self.label_8.setObjectName(\"label_8\")\n",
    "        self.label_9 = QtWidgets.QLabel(self.widget)\n",
    "        self.label_9.setGeometry(QtCore.QRect(460, 300, 221, 71))\n",
    "        self.label_9.setStyleSheet(\"font: 26pt \\\"Rockwell Condensed\\\";\")\n",
    "        self.label_9.setObjectName(\"label_9\")\n",
    "        self.id = QtWidgets.QLineEdit(self.widget)\n",
    "        self.id.setGeometry(QtCore.QRect(200, 30, 191, 41))\n",
    "        self.id.setStyleSheet(\"background-color:rgb(255, 255, 255);\")\n",
    "        self.id.setObjectName(\"id\")\n",
    "        self.age = QtWidgets.QLineEdit(self.widget)\n",
    "        self.age.setGeometry(QtCore.QRect(200, 120, 191, 41))\n",
    "        self.age.setStyleSheet(\"background-color:rgb(255, 255, 255);\")\n",
    "        self.age.setObjectName(\"age\")\n",
    "        self.sex = QtWidgets.QLineEdit(self.widget)\n",
    "        self.sex.setGeometry(QtCore.QRect(200, 220, 191, 41))\n",
    "        self.sex.setStyleSheet(\"background-color:rgb(255, 255, 255);\")\n",
    "        self.sex.setObjectName(\"sex\")\n",
    "        self.bmd = QtWidgets.QLineEdit(self.widget)\n",
    "        self.bmd.setGeometry(QtCore.QRect(620, 310, 191, 41))\n",
    "        self.bmd.setStyleSheet(\"background-color:rgb(255, 255, 255);\")\n",
    "        self.bmd.setObjectName(\"bmd\")\n",
    "        self.medication = QtWidgets.QLineEdit(self.widget)\n",
    "        self.medication.setGeometry(QtCore.QRect(620, 130, 191, 41))\n",
    "        self.medication.setStyleSheet(\"background-color:rgb(255, 255, 255);\")\n",
    "        self.medication.setObjectName(\"medication\")\n",
    "        self.weight = QtWidgets.QLineEdit(self.widget)\n",
    "        self.weight.setGeometry(QtCore.QRect(210, 320, 191, 41))\n",
    "        self.weight.setStyleSheet(\"background-color:rgb(255, 255, 255);\")\n",
    "        self.weight.setObjectName(\"weight\")\n",
    "        self.waiting = QtWidgets.QLineEdit(self.widget)\n",
    "        self.waiting.setGeometry(QtCore.QRect(620, 230, 191, 41))\n",
    "        self.waiting.setStyleSheet(\"background-color:rgb(255, 255, 255);\")\n",
    "        self.waiting.setObjectName(\"waiting\")\n",
    "        self.height = QtWidgets.QLineEdit(self.widget)\n",
    "        self.height.setGeometry(QtCore.QRect(620, 30, 191, 41))\n",
    "        self.height.setStyleSheet(\"background-color:rgb(255, 255, 255);\")\n",
    "        self.height.setObjectName(\"height\")\n",
    "        self.pushButton = QtWidgets.QPushButton(self.widget)\n",
    "        self.pushButton.setGeometry(QtCore.QRect(320, 420, 231, 61))\n",
    "        self.pushButton.setStyleSheet(\" background-color:rgb(255, 114, 71);\\n\"\n",
    "\"font: 81 20pt \\\"Rockwell Extra Bold\\\";\")\n",
    "        self.pushButton.setObjectName(\"pushButton\")\n",
    "        self.label_10 = QtWidgets.QLabel(self.widget)\n",
    "        self.label_10.setGeometry(QtCore.QRect(390, 640, 141, 31))\n",
    "        self.label_10.setStyleSheet(\"font: 16pt \\\"Courier\\\";\")\n",
    "        self.label_10.setObjectName(\"label_10\")\n",
    "        self.result = QtWidgets.QLineEdit(self.widget)\n",
    "        self.result.setGeometry(QtCore.QRect(540, 630, 271, 51))\n",
    "        self.result.setStyleSheet(\"background-color:rgb(255, 255, 255);\")\n",
    "        self.result.setObjectName(\"result\")\n",
    "        \n",
    "        self.pushButton.clicked.connect(self.fract)\n",
    "\n",
    "        self.retranslateUi(Form)\n",
    "        QtCore.QMetaObject.connectSlotsByName(Form)\n",
    "        \n",
    "    def fract(self):\n",
    "        age = self.age.text()\n",
    "        sex = self.sex.text()\n",
    "        weight = self.weight.text()\n",
    "        height = self.height.text()\n",
    "        medication = self.medication.text()\n",
    "        waiting = self.waiting.text()\n",
    "        bmd = self.bmd.text()\n",
    "        \n",
    "        age = int(age)\n",
    "        sex = int(sex)\n",
    "        weight = float(weight)\n",
    "        height = float(height)\n",
    "        medication = int(medication)\n",
    "        waiting = int(waiting)\n",
    "        bmd = float(bmd)\n",
    "        \n",
    "        res = model.predict([[age, sex, weight, height, medication, waiting, bmd]])[0]\n",
    "        \n",
    "        self.result.setText(str(res))\n",
    "        \n",
    "    def retranslateUi(self, Form):\n",
    "        _translate = QtCore.QCoreApplication.translate\n",
    "        Form.setWindowTitle(_translate(\"Form\", \"Form\"))\n",
    "        self.label.setText(_translate(\"Form\", \"DETECT FRACTURE OR NOT\"))\n",
    "        self.label_2.setText(_translate(\"Form\", \" ID :\"))\n",
    "        self.label_3.setText(_translate(\"Form\", \" Age : \"))\n",
    "        self.label_4.setText(_translate(\"Form\", \" Sex  : \"))\n",
    "        self.label_5.setText(_translate(\"Form\", \" Medication : \"))\n",
    "        self.label_6.setText(_translate(\"Form\", \"   Height_cm  : \"))\n",
    "        self.label_7.setText(_translate(\"Form\", \" Weight_kg  : \"))\n",
    "        self.label_8.setText(_translate(\"Form\", \"   Waiting_time :\"))\n",
    "        self.label_9.setText(_translate(\"Form\", \"Bmd : \"))\n",
    "        self.pushButton.setText(_translate(\"Form\", \"PREDICT\"))\n",
    "        self.label_10.setText(_translate(\"Form\", \"RESULT :\"))\n",
    "\n",
    "\n",
    "if __name__ == \"__main__\":\n",
    "    import sys\n",
    "    app = QtWidgets.QApplication(sys.argv)\n",
    "    Form = QtWidgets.QWidget()\n",
    "    ui = Ui_Form()\n",
    "    ui.setupUi(Form)\n",
    "    Form.show()\n",
    "    sys.exit(app.exec_())"
   ]
  },
  {
   "cell_type": "code",
   "execution_count": null,
   "id": "93db02c2",
   "metadata": {},
   "outputs": [],
   "source": []
  },
  {
   "cell_type": "code",
   "execution_count": null,
   "id": "734a0548",
   "metadata": {},
   "outputs": [],
   "source": []
  }
 ],
 "metadata": {
  "kernelspec": {
   "display_name": "Python 3.10.7 64-bit",
   "language": "python",
   "name": "python3"
  },
  "language_info": {
   "codemirror_mode": {
    "name": "ipython",
    "version": 3
   },
   "file_extension": ".py",
   "mimetype": "text/x-python",
   "name": "python",
   "nbconvert_exporter": "python",
   "pygments_lexer": "ipython3",
   "version": "3.10.7"
  },
  "vscode": {
   "interpreter": {
    "hash": "171297e6988badb5fc12d8ad1132fd3fbce21d89ce466d6887d0f58c05583363"
   }
  }
 },
 "nbformat": 4,
 "nbformat_minor": 5
}
